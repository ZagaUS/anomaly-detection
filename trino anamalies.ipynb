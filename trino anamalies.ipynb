{
  "nbformat": 4,
  "nbformat_minor": 0,
  "metadata": {
    "colab": {
      "provenance": []
    },
    "kernelspec": {
      "name": "python3",
      "display_name": "Python 3"
    },
    "language_info": {
      "name": "python"
    }
  },
  "cells": [
    {
      "cell_type": "code",
      "execution_count": 1,
      "metadata": {
        "colab": {
          "base_uri": "https://localhost:8080/"
        },
        "id": "MHeHQwGAnfDq",
        "outputId": "ac0bbfe0-091b-486b-f66b-d826073f1f61"
      },
      "outputs": [
        {
          "output_type": "stream",
          "name": "stdout",
          "text": [
            "Collecting trino\n",
            "  Downloading trino-0.330.0-py3-none-any.whl.metadata (18 kB)\n",
            "Requirement already satisfied: python-dateutil in /usr/local/lib/python3.10/dist-packages (from trino) (2.8.2)\n",
            "Requirement already satisfied: pytz in /usr/local/lib/python3.10/dist-packages (from trino) (2024.2)\n",
            "Requirement already satisfied: requests>=2.31.0 in /usr/local/lib/python3.10/dist-packages (from trino) (2.32.3)\n",
            "Requirement already satisfied: tzlocal in /usr/local/lib/python3.10/dist-packages (from trino) (5.2)\n",
            "Requirement already satisfied: charset-normalizer<4,>=2 in /usr/local/lib/python3.10/dist-packages (from requests>=2.31.0->trino) (3.4.0)\n",
            "Requirement already satisfied: idna<4,>=2.5 in /usr/local/lib/python3.10/dist-packages (from requests>=2.31.0->trino) (3.10)\n",
            "Requirement already satisfied: urllib3<3,>=1.21.1 in /usr/local/lib/python3.10/dist-packages (from requests>=2.31.0->trino) (2.2.3)\n",
            "Requirement already satisfied: certifi>=2017.4.17 in /usr/local/lib/python3.10/dist-packages (from requests>=2.31.0->trino) (2024.8.30)\n",
            "Requirement already satisfied: six>=1.5 in /usr/local/lib/python3.10/dist-packages (from python-dateutil->trino) (1.16.0)\n",
            "Downloading trino-0.330.0-py3-none-any.whl (53 kB)\n",
            "\u001b[?25l   \u001b[90m━━━━━━━━━━━━━━━━━━━━━━━━━━━━━━━━━━━━━━━━\u001b[0m \u001b[32m0.0/53.5 kB\u001b[0m \u001b[31m?\u001b[0m eta \u001b[36m-:--:--\u001b[0m\r\u001b[2K   \u001b[90m━━━━━━━━━━━━━━━━━━━━━━━━━━━━━━━━━━━━━━━━\u001b[0m \u001b[32m53.5/53.5 kB\u001b[0m \u001b[31m3.5 MB/s\u001b[0m eta \u001b[36m0:00:00\u001b[0m\n",
            "\u001b[?25hInstalling collected packages: trino\n",
            "Successfully installed trino-0.330.0\n"
          ]
        }
      ],
      "source": [
        "!pip install trino\n"
      ]
    },
    {
      "cell_type": "code",
      "source": [
        "import trino\n",
        "from trino.auth import BasicAuthentication\n",
        "\n",
        "# Define connection parameters\n",
        "trino_host = '18.188.112.55'\n",
        "trino_port = 8080\n",
        "\n",
        "# Define the function to query Trino and handle anomaly detection\n",
        "def query_trino_for_anomalies():\n",
        "\n",
        "# Connect to Trino\n",
        "  conn = trino.dbapi.connect(\n",
        "    host=trino_host,\n",
        "    port=trino_port,\n",
        "    user=\"admin\",\n",
        ")\n",
        "\n"
      ],
      "metadata": {
        "id": "Pkd5dPBbnypM"
      },
      "execution_count": 41,
      "outputs": []
    },
    {
      "cell_type": "code",
      "source": [
        "import pandas as pd\n",
        "\n",
        "\n",
        "\n",
        "# Define your date range\n",
        "start_date = '2024-11-8'\n",
        "end_date = '2024-11-11'\n",
        "\n",
        "# Query logs and metrics data by date\n",
        "query_logs = f\"\"\"\n",
        "SELECT * FROM iceberg.apm_logs.logs\n",
        "WHERE createdTime >= DATE '{start_date}'\n",
        "AND createdTime < DATE '{end_date}'\n",
        "\"\"\"\n",
        "\n",
        "query_metrics = f\"\"\"\n",
        "SELECT * FROM iceberg.apm_metrics.metrics\n",
        "WHERE createdTime >= DATE '{start_date}'\n",
        "AND createdTime < DATE '{end_date}'\n",
        "\"\"\"\n",
        "\n",
        "# Execute the queries and load the data into DataFrames\n",
        "logs_df = pd.read_sql(query_logs, conn)\n",
        "metrics_df = pd.read_sql(query_metrics, conn)\n",
        "\n",
        "# Print the DataFrames\n",
        "print(logs_df)\n",
        "print(metrics_df)\n",
        "\n"
      ],
      "metadata": {
        "colab": {
          "base_uri": "https://localhost:8080/"
        },
        "id": "l5sF6YuhsD-f",
        "outputId": "863cbf79-f090-4e56-d79a-0fb0ecf4dd1d"
      },
      "execution_count": 34,
      "outputs": [
        {
          "output_type": "stream",
          "name": "stderr",
          "text": [
            "<ipython-input-34-7e1c951d4d90>:23: UserWarning: pandas only supports SQLAlchemy connectable (engine/connection) or database string URI or sqlite3 DBAPI2 connection. Other DBAPI2 objects are not tested. Please consider using SQLAlchemy.\n",
            "  logs_df = pd.read_sql(query_logs, conn)\n",
            "<ipython-input-34-7e1c951d4d90>:24: UserWarning: pandas only supports SQLAlchemy connectable (engine/connection) or database string URI or sqlite3 DBAPI2 connection. Other DBAPI2 objects are not tested. Please consider using SQLAlchemy.\n",
            "  metrics_df = pd.read_sql(query_metrics, conn)\n"
          ]
        },
        {
          "output_type": "stream",
          "name": "stdout",
          "text": [
            "   servicename language                                          scopename  \\\n",
            "0  order-srv-1     java          org.springdoc.api.AbstractOpenApiResource   \n",
            "1  order-srv-1     java                 com.zaga.OrderProj.OrderController   \n",
            "2  order-srv-1     java                 com.zaga.OrderProj.OrderController   \n",
            "3  order-srv-1     java                 com.zaga.OrderProj.OrderController   \n",
            "4  order-srv-1     java  org.apache.catalina.core.ContainerBase.[Tomcat...   \n",
            "5  order-srv-1     java  org.springframework.web.servlet.mvc.support.De...   \n",
            "6  order-srv-1     java  org.springframework.web.servlet.mvc.support.De...   \n",
            "7  order-srv-1     java                    com.zaga.OrderProj.OrderService   \n",
            "8  order-srv-1     java                    com.zaga.OrderProj.OrderService   \n",
            "\n",
            "                            traceid            spanid         timeunixnano  \\\n",
            "0  14175767cb212204cbc967e20244473d  c1f0766d1ff870b8  1731039369136000000   \n",
            "1  39e422b3980ca2d3b3a8144871b6cb6f  f7373e8660eb86ca  1731037925732430000   \n",
            "2  39e422b3980ca2d3b3a8144871b6cb6f  f7373e8660eb86ca  1731037925735475000   \n",
            "3  2490dd96849fa358e7297cde681c42e2  9243a84ec79a4da0  1731037925751275000   \n",
            "4  39e422b3980ca2d3b3a8144871b6cb6f  f7373e8660eb86ca  1731037925735000000   \n",
            "5  a5bf5d90428dca80268e98f2f036e4e5  1a5f45a888643e5f  1731037925707000000   \n",
            "6  3e7710fbe8abddfa8018aedc2a836f51  e9cb771c41a57fd7  1731037925726000000   \n",
            "7  39e422b3980ca2d3b3a8144871b6cb6f  f7373e8660eb86ca  1731037925735438000   \n",
            "8  2490dd96849fa358e7297cde681c42e2  9243a84ec79a4da0  1731037925751238000   \n",
            "\n",
            "   observedtimeunixnano                createdtime severitytext  \\\n",
            "0   1731039369136517000 2024-11-08 04:16:09.136000         INFO   \n",
            "1   1731037925732431000 2024-11-08 03:52:05.732430         INFO   \n",
            "2   1731037925735475000 2024-11-08 03:52:05.735475        ERROR   \n",
            "3   1731037925751275000 2024-11-08 03:52:05.751275         INFO   \n",
            "4   1731037925735839000 2024-11-08 03:52:05.735000       SEVERE   \n",
            "5   1731037925708054000 2024-11-08 03:52:05.707000         WARN   \n",
            "6   1731037925726754000 2024-11-08 03:52:05.726000         WARN   \n",
            "7   1731037925735440000 2024-11-08 03:52:05.735438         INFO   \n",
            "8   1731037925751240000 2024-11-08 03:52:05.751238         INFO   \n",
            "\n",
            "   severitynumber                                               body  \\\n",
            "0               9     Init duration for springdoc-openapi is: 195 ms   \n",
            "1               9            Received request to get order by ID: 78   \n",
            "2              17                     Error while creating order: {}   \n",
            "3               9                                    Found 6 orders.   \n",
            "4              17  Servlet.service() for servlet [dispatcherServl...   \n",
            "5              13  Resolved [org.springframework.http.converter.H...   \n",
            "6              13  Resolved [org.springframework.http.converter.H...   \n",
            "7               9                  No order details found for ID: 78   \n",
            "8               9                                    Found 6 orders.   \n",
            "\n",
            "                                          attributes  \n",
            "0                                                 []  \n",
            "1                                                 []  \n",
            "2                                                 []  \n",
            "3                                                 []  \n",
            "4  [{\"key\": \"exception.message\", \"value\": {\"strin...  \n",
            "5                                                 []  \n",
            "6                                                 []  \n",
            "7                                                 []  \n",
            "8                                                 []  \n",
            "      servicename                createdtime  cpuusage   memoryusage\n",
            "0     order-srv-2 2024-11-08 00:33:46.247136  0.000209  3.823477e+11\n",
            "1    vendor-srv-2 2024-11-08 01:37:47.406841  0.000104  4.921097e+11\n",
            "2    vendor-srv-2 2024-11-08 02:23:47.406836  0.000104  5.103831e+11\n",
            "3     order-srv-2 2024-11-08 02:18:46.247136  0.000251  2.363533e+11\n",
            "4    vendor-srv-1 2024-11-08 01:22:32.205778  0.000105  3.673026e+11\n",
            "..            ...                        ...       ...           ...\n",
            "767  vendor-srv-2 2024-11-08 00:12:47.406836  0.000104  4.577174e+11\n",
            "768   order-srv-2 2024-11-08 02:24:46.247138  0.000167  2.374270e+11\n",
            "769  vendor-srv-2 2024-11-08 01:58:47.406840  0.000104  5.007107e+11\n",
            "770   order-srv-2 2024-11-08 01:24:46.247131  0.000209  3.995552e+11\n",
            "771   order-srv-1 2024-11-08 00:44:36.222669  0.000104  5.587956e+11\n",
            "\n",
            "[772 rows x 4 columns]\n"
          ]
        }
      ]
    },
    {
      "cell_type": "code",
      "source": [
        "# Convert time columns to datetime format\n",
        "logs_df['createdtime'] = pd.to_datetime(logs_df['createdtime'])\n",
        "metrics_df['createdtime'] = pd.to_datetime(metrics_df['createdtime'])\n",
        "\n",
        "# Map severity to numeric levels\n",
        "log_levels = {'INFO': 0, 'WARNING': 1, 'ERROR': 2}\n",
        "logs_df['log_level_encoded'] = logs_df['severitytext'].map(log_levels)\n",
        "\n",
        "# Aggregate logs by 5-minute intervals\n",
        "logs_features = logs_df.groupby(pd.Grouper(key='createdtime', freq='5Min')).agg({\n",
        "    'log_level_encoded': 'mean',\n",
        "    'body': 'count'\n",
        "}).rename(columns={'log_level_encoded': 'avg_severity', 'body': 'log_count'}).fillna(0)\n",
        "\n",
        "# Aggregate metrics data by 5-minute intervals\n",
        "# Ensure 'createdtime' is in datetime format for resampling\n",
        "metrics_df['createdtime'] = pd.to_datetime(metrics_df['createdtime'])\n",
        "\n",
        "# Set 'createdtime' as the index\n",
        "metrics_df.set_index('createdtime', inplace=True)\n",
        "\n",
        "# Select only numeric columns for resampling\n",
        "numeric_metrics = metrics_df.select_dtypes(include=['float64', 'int64'])\n",
        "\n",
        "# Resample the numeric data by 5-minute intervals and fill missing values with 0\n",
        "metrics_features = numeric_metrics.resample('5Min').mean().fillna(0)\n",
        "\n",
        "# Print the result\n",
        "print(metrics_features)\n",
        "\n",
        "# Merge logs and metrics data\n",
        "combined_df = logs_features.join(metrics_features, how='outer').fillna(0)\n"
      ],
      "metadata": {
        "colab": {
          "base_uri": "https://localhost:8080/"
        },
        "id": "cIeZHpaDw2TL",
        "outputId": "f7839388-5e81-4f83-b15a-2545304cee94"
      },
      "execution_count": 22,
      "outputs": [
        {
          "output_type": "stream",
          "name": "stdout",
          "text": [
            "                     cpuusage   memoryusage\n",
            "createdtime                                \n",
            "2024-11-08 00:00:00  0.000130  4.266368e+11\n",
            "2024-11-08 00:05:00  0.000128  4.244771e+11\n",
            "2024-11-08 00:10:00  0.000134  4.307348e+11\n",
            "2024-11-08 00:15:00  0.000154  4.327316e+11\n",
            "2024-11-08 00:20:00  0.000155  4.304432e+11\n",
            "2024-11-08 00:25:00  0.000128  4.354973e+11\n",
            "2024-11-08 00:30:00  0.000130  4.375948e+11\n",
            "2024-11-08 00:35:00  0.000144  4.398025e+11\n",
            "2024-11-08 00:40:00  0.000143  4.420660e+11\n",
            "2024-11-08 00:45:00  0.000142  4.444305e+11\n",
            "2024-11-08 00:50:00  0.000122  4.418312e+11\n",
            "2024-11-08 00:55:00  0.000128  4.472792e+11\n",
            "2024-11-08 01:00:00  0.000133  4.489496e+11\n",
            "2024-11-08 01:05:00  0.000137  4.522872e+11\n",
            "2024-11-08 01:10:00  0.000135  4.529320e+11\n",
            "2024-11-08 01:15:00  0.000142  4.606381e+11\n",
            "2024-11-08 01:20:00  0.000142  4.565999e+11\n",
            "2024-11-08 01:25:00  0.000143  4.576251e+11\n",
            "2024-11-08 01:30:00  0.000137  4.598059e+11\n",
            "2024-11-08 01:35:00  0.000137  4.621327e+11\n",
            "2024-11-08 01:40:00  0.000138  4.640673e+11\n",
            "2024-11-08 01:45:00  0.000142  4.299822e+11\n",
            "2024-11-08 01:50:00  0.000111  4.219859e+11\n",
            "2024-11-08 01:55:00  0.000117  4.233842e+11\n",
            "2024-11-08 02:00:00  0.000118  4.252650e+11\n",
            "2024-11-08 02:05:00  0.000119  3.293130e+11\n",
            "2024-11-08 02:10:00  0.000108  3.363237e+11\n",
            "2024-11-08 02:15:00  0.000118  3.407248e+11\n",
            "2024-11-08 02:20:00  0.000104  3.398704e+11\n",
            "2024-11-08 02:25:00  0.000111  3.408378e+11\n",
            "2024-11-08 02:30:00  0.000109  3.456524e+11\n",
            "2024-11-08 02:35:00  0.000111  3.446540e+11\n",
            "2024-11-08 02:40:00  0.000112  3.413889e+11\n",
            "2024-11-08 02:45:00  0.000120  3.488425e+11\n",
            "2024-11-08 02:50:00  0.000106  3.499233e+11\n",
            "2024-11-08 02:55:00  0.000114  3.513406e+11\n",
            "2024-11-08 03:00:00  0.000113  3.631575e+11\n",
            "2024-11-08 03:05:00  0.000167  2.492389e+11\n",
            "2024-11-08 03:10:00  0.000114  3.448591e+11\n",
            "2024-11-08 03:15:00  0.000122  3.695962e+11\n",
            "2024-11-08 03:20:00  0.000117  3.396999e+11\n",
            "2024-11-08 03:25:00  0.000167  2.567551e+11\n",
            "2024-11-08 03:30:00  0.000118  4.026200e+11\n",
            "2024-11-08 03:35:00  0.000120  3.658705e+11\n",
            "2024-11-08 03:40:00  0.000167  2.599764e+11\n",
            "2024-11-08 03:45:00  0.000000  0.000000e+00\n",
            "2024-11-08 03:50:00  0.000167  2.664188e+11\n",
            "2024-11-08 03:55:00  0.000209  2.772479e+11\n"
          ]
        }
      ]
    },
    {
      "cell_type": "code",
      "source": [
        "from sklearn.ensemble import IsolationForest\n",
        "\n",
        "# Define features for anomaly detection\n",
        "features_for_anomaly = combined_df[['log_count', 'cpuusage']]\n",
        "# Initialize and fit Isolation Forest model\n",
        "model = IsolationForest(n_estimators=100, contamination=0.05, random_state=42)\n",
        "combined_df['anomaly_score'] = model.fit_predict(features_for_anomaly)\n"
      ],
      "metadata": {
        "id": "S_ufWH7h3nvs"
      },
      "execution_count": 46,
      "outputs": []
    },
    {
      "cell_type": "code",
      "source": [
        "def suggest_solution(row):\n",
        "    solutions = []\n",
        "    if row['cpuusage'] < 100:\n",
        "        solutions.append(\"High CPU usage: Consider optimizing application code or scaling up resources.\")\n",
        "    if row['avg_severity'] >= 1.5:\n",
        "        solutions.append(\"Frequent high-severity logs: Investigate the source of errors or warnings in logs.\")\n",
        "    if row['log_count'] > 100:\n",
        "        solutions.append(\"High log count: Check for repetitive errors or high-frequency logging.\")\n",
        "    return \"; \".join(solutions) if solutions else \"No immediate solution available; investigate manually.\"\n",
        "\n",
        "# Identify anomalies and suggest solutions\n",
        "anomalies = combined_df[combined_df['anomaly_score'] == -1]\n",
        "anomalies['solution'] = anomalies.apply(suggest_solution, axis=1)\n",
        "\n",
        "# Print detected anomalies and solutions\n",
        "print(\"Detected Anomalies and Suggested Solutions:\\n\")\n",
        "print(anomalies[['cpuusage', 'log_count', 'avg_severity', 'anomaly_score', 'solution']])\n"
      ],
      "metadata": {
        "colab": {
          "base_uri": "https://localhost:8080/"
        },
        "id": "2Lyeg18L34lC",
        "outputId": "61569c14-61c5-43c9-c16d-7d1683089c97"
      },
      "execution_count": 70,
      "outputs": [
        {
          "output_type": "stream",
          "name": "stdout",
          "text": [
            "Detected Anomalies and Suggested Solutions:\n",
            "\n",
            "                     cpuusage  log_count  avg_severity  anomaly_score  \\\n",
            "createdtime                                                             \n",
            "2024-11-08 03:50:00  0.000167        8.0           0.4             -1   \n",
            "2024-11-08 03:55:00  0.000209        0.0           0.0             -1   \n",
            "2024-11-08 04:15:00  0.000000        1.0           0.0             -1   \n",
            "\n",
            "                                                              solution  \n",
            "createdtime                                                             \n",
            "2024-11-08 03:50:00  High CPU usage: Consider optimizing applicatio...  \n",
            "2024-11-08 03:55:00  High CPU usage: Consider optimizing applicatio...  \n",
            "2024-11-08 04:15:00  High CPU usage: Consider optimizing applicatio...  \n"
          ]
        },
        {
          "output_type": "stream",
          "name": "stderr",
          "text": [
            "<ipython-input-70-feb313a53c8e>:13: SettingWithCopyWarning: \n",
            "A value is trying to be set on a copy of a slice from a DataFrame.\n",
            "Try using .loc[row_indexer,col_indexer] = value instead\n",
            "\n",
            "See the caveats in the documentation: https://pandas.pydata.org/pandas-docs/stable/user_guide/indexing.html#returning-a-view-versus-a-copy\n",
            "  anomalies['solution'] = anomalies.apply(suggest_solution, axis=1)\n"
          ]
        }
      ]
    },
    {
      "cell_type": "code",
      "source": [
        "!pip install apscheduler\n"
      ],
      "metadata": {
        "colab": {
          "base_uri": "https://localhost:8080/"
        },
        "id": "XnOWiH4x4_Sa",
        "outputId": "cdf873d0-d980-4c75-9c93-1012db19f688"
      },
      "execution_count": 30,
      "outputs": [
        {
          "output_type": "stream",
          "name": "stdout",
          "text": [
            "Collecting apscheduler\n",
            "  Downloading APScheduler-3.10.4-py3-none-any.whl.metadata (5.7 kB)\n",
            "Requirement already satisfied: six>=1.4.0 in /usr/local/lib/python3.10/dist-packages (from apscheduler) (1.16.0)\n",
            "Requirement already satisfied: pytz in /usr/local/lib/python3.10/dist-packages (from apscheduler) (2024.2)\n",
            "Requirement already satisfied: tzlocal!=3.*,>=2.0 in /usr/local/lib/python3.10/dist-packages (from apscheduler) (5.2)\n",
            "Downloading APScheduler-3.10.4-py3-none-any.whl (59 kB)\n",
            "\u001b[?25l   \u001b[90m━━━━━━━━━━━━━━━━━━━━━━━━━━━━━━━━━━━━━━━━\u001b[0m \u001b[32m0.0/59.3 kB\u001b[0m \u001b[31m?\u001b[0m eta \u001b[36m-:--:--\u001b[0m\r\u001b[2K   \u001b[90m━━━━━━━━━━━━━━━━━━━━━━━━━━━━━━━━━━━━━━━━\u001b[0m \u001b[32m59.3/59.3 kB\u001b[0m \u001b[31m3.6 MB/s\u001b[0m eta \u001b[36m0:00:00\u001b[0m\n",
            "\u001b[?25hInstalling collected packages: apscheduler\n",
            "Successfully installed apscheduler-3.10.4\n"
          ]
        }
      ]
    },
    {
      "cell_type": "code",
      "source": [
        "\n",
        "\n",
        "from apscheduler.schedulers.background import BackgroundScheduler\n",
        "import time\n",
        "\n",
        "# Function to start the scheduler\n",
        "def start_scheduler():\n",
        "    scheduler = BackgroundScheduler()\n",
        "\n",
        "    # Schedule the job to run every 10 minutes\n",
        "    scheduler.add_job(query_trino_for_anomalies, 'interval', minutes=10)\n",
        "\n",
        "    print(\"Scheduler started. Monitoring for anomalies in real-time.\")\n",
        "    try:\n",
        "        # Start the scheduler\n",
        "        scheduler.start()\n",
        "        # Keep the scheduler running\n",
        "        while True:\n",
        "            time.sleep(60)\n",
        "    except (KeyboardInterrupt, SystemExit):\n",
        "        print(\"Scheduler stopped.\")\n",
        "        scheduler.shutdown()\n",
        "# Run the scheduler in Colab\n",
        "start_scheduler()\n"
      ],
      "metadata": {
        "colab": {
          "base_uri": "https://localhost:8080/"
        },
        "id": "ui_OKLC-5JDs",
        "outputId": "0e55ad66-739c-4d6d-ba9a-9bbb1405b516"
      },
      "execution_count": 42,
      "outputs": [
        {
          "output_type": "stream",
          "name": "stdout",
          "text": [
            "Scheduler started. Monitoring for anomalies in real-time.\n",
            "Scheduler stopped.\n"
          ]
        }
      ]
    },
    {
      "cell_type": "code",
      "source": [
        "# Step 5: Visualizing Anomalies\n",
        "import matplotlib.pyplot as plt\n",
        "import seaborn as sns\n",
        "# Print column names of the combined DataFrame to debug\n",
        "print(\"Columns of combined_df:\", combined_df.columns)\n",
        "\n",
        "plt.figure(figsize=(14, 8))\n",
        "\n",
        "# Plot CPU usage and log count\n",
        "sns.lineplot(data=combined_df['cpuusage'], label='CPU Usage')\n",
        "sns.lineplot(data=combined_df['log_count'], label='Log Count')\n",
        "\n",
        "# Identify and plot anomalies based on anomaly score\n",
        "anomalies = combined_df[combined_df['anomaly_score'] == -1]\n",
        "plt.scatter(anomalies.index, anomalies['cpuusage'], color='red', label='Anomalies', marker='x')\n",
        "\n",
        "# Highlight anomaly scores on the plot\n",
        "sns.lineplot(data=combined_df['anomaly_score'], label='Anomaly Score', linestyle='--', color='black')\n",
        "\n",
        "# Title and labels\n",
        "plt.title('Anomaly Detection in CPU Usage and Log Counts')\n",
        "plt.xlabel('Time')\n",
        "plt.ylabel('Value')\n",
        "plt.legend()\n",
        "\n",
        "# Show the plot\n",
        "plt.show()"
      ],
      "metadata": {
        "colab": {
          "base_uri": "https://localhost:8080/",
          "height": 770
        },
        "id": "Q3G_hanL9bdo",
        "outputId": "f99e820e-619f-4a03-e672-ef3a406b2e6d"
      },
      "execution_count": 54,
      "outputs": [
        {
          "output_type": "stream",
          "name": "stdout",
          "text": [
            "Columns of combined_df: Index(['avg_severity', 'log_count', 'cpuusage', 'memoryusage',\n",
            "       'anomaly_score'],\n",
            "      dtype='object')\n"
          ]
        },
        {
          "output_type": "display_data",
          "data": {
            "text/plain": [
              "<Figure size 1400x800 with 1 Axes>"
            ],
            "image/png": "[encoded data removed]"
          },
          "metadata": {}
        }
      ]
    }
  ]
}